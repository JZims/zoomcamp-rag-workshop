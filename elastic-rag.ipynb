{
 "cells": [
  {
   "cell_type": "code",
   "execution_count": 1,
   "id": "fb516605-95f9-4fa8-b77b-248b1101e5f1",
   "metadata": {},
   "outputs": [],
   "source": [
    "import json"
   ]
  },
  {
   "cell_type": "code",
   "execution_count": 2,
   "id": "9f4d14dd",
   "metadata": {},
   "outputs": [],
   "source": [
    "with open('./documents.json', 'rt') as f_in:\n",
    "    documents_file = json.load(f_in)"
   ]
  },
  {
   "cell_type": "code",
   "execution_count": 3,
   "id": "d1e3cf1e",
   "metadata": {},
   "outputs": [
    {
     "data": {
      "text/plain": [
       "{'text': \"The purpose of this document is to capture frequently asked technical questions\\nThe exact day and hour of the course will be 15th Jan 2024 at 17h00. The course will start with the first  “Office Hours'' live.1\\nSubscribe to course public Google Calendar (it works from Desktop only).\\nRegister before the course starts using this link.\\nJoin the course Telegram channel with announcements.\\nDon’t forget to register in DataTalks.Club's Slack and join the channel.\",\n",
       " 'section': 'General course-related questions',\n",
       " 'question': 'Course - When will the course start?'}"
      ]
     },
     "execution_count": 3,
     "metadata": {},
     "output_type": "execute_result"
    }
   ],
   "source": [
    "\n",
    "documents_file[0]['documents'][0]"
   ]
  },
  {
   "cell_type": "code",
   "execution_count": 4,
   "id": "cea987d3",
   "metadata": {},
   "outputs": [],
   "source": [
    "\n",
    "documents = []"
   ]
  },
  {
   "cell_type": "code",
   "execution_count": 5,
   "id": "fc75a632",
   "metadata": {},
   "outputs": [],
   "source": [
    "for course in documents_file:\n",
    "    course_name = course['course']\n",
    "     \n",
    "    for doc in course['documents']:\n",
    "       doc['course'] = course_name\n",
    "       documents.append(doc)"
   ]
  },
  {
   "cell_type": "code",
   "execution_count": 6,
   "id": "e2c25196",
   "metadata": {},
   "outputs": [
    {
     "data": {
      "text/plain": [
       "{'text': \"The purpose of this document is to capture frequently asked technical questions\\nThe exact day and hour of the course will be 15th Jan 2024 at 17h00. The course will start with the first  “Office Hours'' live.1\\nSubscribe to course public Google Calendar (it works from Desktop only).\\nRegister before the course starts using this link.\\nJoin the course Telegram channel with announcements.\\nDon’t forget to register in DataTalks.Club's Slack and join the channel.\",\n",
       " 'section': 'General course-related questions',\n",
       " 'question': 'Course - When will the course start?',\n",
       " 'course': 'data-engineering-zoomcamp'}"
      ]
     },
     "execution_count": 6,
     "metadata": {},
     "output_type": "execute_result"
    }
   ],
   "source": [
    "documents[0]"
   ]
  },
  {
   "cell_type": "code",
   "execution_count": 7,
   "id": "de229670",
   "metadata": {},
   "outputs": [
    {
     "data": {
      "text/plain": [
       "ObjectApiResponse({'name': 'e21286a6d9de', 'cluster_name': 'docker-cluster', 'cluster_uuid': 'NDEcdqssQMOB-96y-9k49w', 'version': {'number': '8.4.3', 'build_flavor': 'default', 'build_type': 'docker', 'build_hash': '42f05b9372a9a4a470db3b52817899b99a76ee73', 'build_date': '2022-10-04T07:17:24.662462378Z', 'build_snapshot': False, 'lucene_version': '9.3.0', 'minimum_wire_compatibility_version': '7.17.0', 'minimum_index_compatibility_version': '7.0.0'}, 'tagline': 'You Know, for Search'})"
      ]
     },
     "execution_count": 7,
     "metadata": {},
     "output_type": "execute_result"
    }
   ],
   "source": [
    "from elasticsearch import Elasticsearch\n",
    "\n",
    "es = Elasticsearch(\"http://localhost:9200\")\n",
    "es.info()"
   ]
  },
  {
   "cell_type": "code",
   "execution_count": 11,
   "id": "589b6427-f78f-454a-a75f-42b5480a475b",
   "metadata": {
    "scrolled": true
   },
   "outputs": [
    {
     "data": {
      "text/plain": [
       "ObjectApiResponse({'acknowledged': True, 'shards_acknowledged': True, 'index': 'more-course-questions'})"
      ]
     },
     "execution_count": 11,
     "metadata": {},
     "output_type": "execute_result"
    }
   ],
   "source": [
    "index_settings = {\n",
    "    \"settings\": {\n",
    "        \"number_of_shards\": 1,\n",
    "        \"number_of_replicas\": 0\n",
    "    },\n",
    "    \"mappings\": {\n",
    "        \"properties\": {\n",
    "            \"text\": {\"type\": \"text\"},\n",
    "            \"section\": {\"type\": \"text\"},\n",
    "            \"question\": {\"type\": \"text\"},\n",
    "            \"course\": {\"type\": \"keyword\"} \n",
    "        }\n",
    "    }\n",
    "}\n",
    "\n",
    "index_name = \"more-course-questions\"\n",
    "response = es.indices.create(index=index_name, body=index_settings)\n",
    "\n",
    "response"
   ]
  },
  {
   "cell_type": "code",
   "execution_count": null,
   "id": "7d338684-d88c-463b-8a6c-f4bef3f68db6",
   "metadata": {},
   "outputs": [],
   "source": [
    "index_name = \"more-course-questions\""
   ]
  },
  {
   "cell_type": "code",
   "execution_count": null,
   "id": "b8e0bc6a-a62a-4ec5-b8ab-b027f72922d3",
   "metadata": {},
   "outputs": [],
   "source": [
    "from tqdm.auto import tqdm"
   ]
  },
  {
   "cell_type": "code",
   "execution_count": null,
   "id": "eef05f59-adfb-4b5c-9590-93c040e90a66",
   "metadata": {},
   "outputs": [],
   "source": [
    "for doc in tqdm(documents):\n",
    "    es.index(index=index_name, document=doc)"
   ]
  },
  {
   "cell_type": "code",
   "execution_count": null,
   "id": "1f22df23-7805-4db8-a91e-faca06a0f85f",
   "metadata": {},
   "outputs": [],
   "source": [
    "user_question = \"How do I join the course after it has started?\"\n",
    "\n",
    "search_query = {\n",
    "    \"size\": 5,\n",
    "    \"query\": {\n",
    "        \"bool\": {\n",
    "            \"must\": {\n",
    "                \"multi_match\": {\n",
    "                    \"query\": user_question,\n",
    "                    \"fields\": [\"question^3\", \"text\", \"section\"],\n",
    "                    \"type\": \"best_fields\"\n",
    "                }\n",
    "            },\n",
    "            \"filter\": {\n",
    "                \"term\": {\n",
    "                    \"course\": \"data-engineering-zoomcamp\"\n",
    "                }\n",
    "            }\n",
    "        }\n",
    "    }\n",
    "}"
   ]
  },
  {
   "cell_type": "code",
   "execution_count": null,
   "id": "dd3b3d0e-2cdc-40eb-994c-0a7449ab3072",
   "metadata": {},
   "outputs": [],
   "source": [
    "response = es.search(index=index_name, body=search_query)\n",
    "\n",
    "for hit in response['hits']['hits']:\n",
    "    doc = hit['_source']\n",
    "    print(f\"Section: {doc['section']}\\nQuestion: {doc['question']}\\nAnswer: {doc['text']}\\n\\n\")"
   ]
  },
  {
   "cell_type": "code",
   "execution_count": 13,
   "id": "08fb24f3-614c-4eb3-8b4e-e29715b78f69",
   "metadata": {},
   "outputs": [],
   "source": [
    "def retrieve_documents(query, index_name=\"more-course-questions\", max_results=5):\n",
    "    es = Elasticsearch(\"http://localhost:9200\")\n",
    "\n",
    "    search_query = {\n",
    "        \"size\": max_results,\n",
    "        \"query\": {\n",
    "            \"bool\": {\n",
    "                \"must\": {\n",
    "                    \"multi_match\": {\n",
    "                        \"query\": query,\n",
    "                        \"fields\": [\"question^3\", \"text\", \"section\"],\n",
    "                        \"type\": \"best_fields\"\n",
    "                    }\n",
    "                },\n",
    "                \"filter\": {\n",
    "                    \"term\": {\n",
    "                        \"course\": \"data-engineering-zoomcamp\"\n",
    "                    }\n",
    "                }\n",
    "            }\n",
    "        }\n",
    "    }\n",
    "    response = es.search(index=index_name, body=search_query)\n",
    "    documents = [hit['_source'] for hit in response['hits']['hits']]\n",
    "    return documents"
   ]
  },
  {
   "cell_type": "code",
   "execution_count": 14,
   "id": "99009cf8-3669-4d40-80f6-1ab30fe50535",
   "metadata": {
    "scrolled": true
   },
   "outputs": [],
   "source": [
    "user_question = \"How do I join the course once it has already started?\"\n",
    "\n",
    "response = retrieve_documents(user_question)\n",
    "\n",
    "for doc in response:\n",
    "    print(f\"Section: {doc['section']}\\nQuestion: {doc['question']}\\nAnswer: {doc['text']}\\n\\n\")"
   ]
  },
  {
   "cell_type": "code",
   "execution_count": 15,
   "id": "5274a23c-4559-4ba1-987b-1c349e99b447",
   "metadata": {},
   "outputs": [
    {
     "name": "stdout",
     "output_type": "stream",
     "text": [
      "\n"
     ]
    }
   ],
   "source": [
    "context =\"\"\n",
    "\n",
    "for doc in response:\n",
    "    doc_str = f\"Section: {doc['section']}\\nQuestion: {doc['question']}\\nAnswer: {doc['text']}\\n\\n\"\n",
    "    context+=doc_str\n",
    "    \n",
    "context=context.strip()\n",
    "print(context)"
   ]
  },
  {
   "cell_type": "code",
   "execution_count": 16,
   "id": "11c7bdc3-df1a-4b74-80d2-8a286652a084",
   "metadata": {},
   "outputs": [],
   "source": [
    "import os\n",
    "from groq import Groq\n",
    "\n",
    "client = Groq(\n",
    "    api_key=os.getenv('GROQ_API_KEY')\n",
    "\n",
    ")"
   ]
  },
  {
   "cell_type": "code",
   "execution_count": 17,
   "id": "1e00f32a-5efb-4c05-90d4-267939f36342",
   "metadata": {},
   "outputs": [
    {
     "name": "stdout",
     "output_type": "stream",
     "text": [
      "The formula for energy depends on the type of energy being measured. Here are some common formulas:\n",
      "\n",
      "1. **Kinetic Energy**:\n",
      "\n",
      "Kinetic energy (KE) is the energy of motion. It is defined as:\n",
      "\n",
      "KE = 0.5 × m × v^2\n",
      "\n",
      "Where:\n",
      "\n",
      "* KE is the kinetic energy (in joules, J)\n",
      "* m is the mass of the object (in kilograms, kg)\n",
      "* v is the velocity of the object (in meters per second, m/s)\n",
      "\n",
      "2. **Potential Energy**:\n",
      "\n",
      "Potential energy (PE) is the energy of position or stored energy. It is defined as:\n",
      "\n",
      "PE = m × g × h\n",
      "\n",
      "Where:\n",
      "\n",
      "* PE is the potential energy (in joules, J)\n",
      "* m is the mass of the object (in kilograms, kg)\n",
      "* g is the acceleration due to gravity (about 9.8 m/s^2 on Earth)\n",
      "* h is the height of the object (in meters, m)\n",
      "\n",
      "3. **Mechanical Energy**:\n",
      "\n",
      "Mechanical energy (ME) is the sum of kinetic energy and potential energy. It is defined as:\n",
      "\n",
      "ME = KE + PE\n",
      "\n",
      "4. **Thermal Energy**:\n",
      "\n",
      "Thermal energy (TE) is the energy of heat. It is defined as:\n",
      "\n",
      "TE = mc × ΔT\n",
      "\n",
      "Where:\n",
      "\n",
      "* TE is the thermal energy (in joules, J)\n",
      "* m is the mass of the substance (in kilograms, kg)\n",
      "* c is the specific heat capacity of the substance (in joules per kilogram per degree Celsius, J/kg°C)\n",
      "* ΔT is the change in temperature (in degrees Celsius, °C)\n",
      "\n",
      "5. **Electromagnetic Energy**:\n",
      "\n",
      "Electromagnetic energy (EME) includes forms of energy like light, radio waves, and X-rays. The energy of an electromagnetic wave is given by:\n",
      "\n",
      "EME = hf\n",
      "\n",
      "Where:\n",
      "\n",
      "* EME is the electromagnetic energy (in joules, J)\n",
      "* h is Planck's constant (approximately 6.626 × 10^-34 J s)\n",
      "* f is the frequency of the wave (in hertz, Hz)\n",
      "\n",
      "These are just a few examples of energy formulas. There are many more formulas for different types of energy, and they all depend on the specific context and application.\n"
     ]
    }
   ],
   "source": [
    "\n",
    "response = client.chat.completions.create(\n",
    "    model=\"llama3-8b-8192\",\n",
    "    messages=[{\"role\": \"user\", \"content\": \"What's the formula for Energy?\"}]\n",
    ")\n",
    "print(response.choices[0].message.content)"
   ]
  },
  {
   "cell_type": "code",
   "execution_count": 18,
   "id": "104635a0-6b77-4d70-b011-c81d0a1f1565",
   "metadata": {},
   "outputs": [
    {
     "name": "stdout",
     "output_type": "stream",
     "text": [
      "You're a course teaching assistant. Answer the user QUESTION based on CONTEXT - the documents retrieved from our FAQ database. \n",
      "Only use the facts from the CONTEXT. If the CONTEXT doesn't contan the answer, return \"NONE\"\n",
      "\n",
      "QUESTION: How do I join the course once it has already started?\n",
      "\n",
      "CONTEXT:\n"
     ]
    }
   ],
   "source": [
    "prompt = f\"\"\"\n",
    "You're a course teaching assistant. Answer the user QUESTION based on CONTEXT - the documents retrieved from our FAQ database. \n",
    "Only use the facts from the CONTEXT. If the CONTEXT doesn't contan the answer, return \"NONE\"\n",
    "\n",
    "QUESTION: {user_question}\n",
    "\n",
    "CONTEXT:\n",
    "\n",
    "{context}\n",
    "\"\"\".strip()\n",
    "\n",
    "print(prompt)"
   ]
  },
  {
   "cell_type": "code",
   "execution_count": 19,
   "id": "3bcb1fc7-47b3-46ba-b720-a4288625b01e",
   "metadata": {},
   "outputs": [
    {
     "name": "stdout",
     "output_type": "stream",
     "text": [
      "Please provide the context so I can help you with the question. \n",
      "\n",
      "What is the context about the course? Please provide any relevant information about the course, such as its schedule, duration, or relevant documents.\n"
     ]
    }
   ],
   "source": [
    "response = client.chat.completions.create(\n",
    "    model=\"llama3-8b-8192\",\n",
    "    messages=[{\"role\": \"user\", \"content\": prompt}]\n",
    ")\n",
    "\n",
    "answer = response.choices[0].message.content\n",
    "print(answer)"
   ]
  },
  {
   "cell_type": "code",
   "execution_count": 20,
   "id": "444f9174-ac9e-4fbf-af15-a77776a74634",
   "metadata": {},
   "outputs": [],
   "source": [
    "context_template = \"\"\"\n",
    "Section: {section}\n",
    "Question: {question}\n",
    "Answer: {text}\n",
    "\"\"\".strip()\n",
    "\n",
    "prompt_template = \"\"\"\n",
    "You're a course teaching assistant.\n",
    "Answer the user QUESTION based on CONTEXT - the documents retrieved from our FAQ database.\n",
    "Don't use other information outside of the provided CONTEXT.  \n",
    "\n",
    "QUESTION: {user_question}\n",
    "\n",
    "CONTEXT:\n",
    "\n",
    "{context}\n",
    "\"\"\".strip()"
   ]
  },
  {
   "cell_type": "code",
   "execution_count": 23,
   "id": "21638002-9d1a-4ae6-90c7-d86ff2de5d75",
   "metadata": {},
   "outputs": [],
   "source": [
    "def build_context(documents):\n",
    "    context_result = \"\"\n",
    "    \n",
    "    for doc in documents:\n",
    "        doc_str = context_template.format(**doc)\n",
    "        context_result += (\"\\n\\n\" + doc_str)\n",
    "    \n",
    "    return context_result.strip()\n",
    "\n",
    "\n",
    "def build_prompt(user_question, documents):\n",
    "    context = build_context(documents)\n",
    "    prompt = prompt_template.format(\n",
    "        user_question=user_question,\n",
    "        context=context\n",
    "    )\n",
    "    return prompt\n",
    "\n",
    "def ask_groq(prompt, model=\"llama3-8b-8192\"):\n",
    "    response = client.chat.completions.create(\n",
    "        model=model,\n",
    "        messages=[{\"role\": \"user\", \"content\": prompt}]\n",
    "    )\n",
    "    answer = response.choices[0].message.content\n",
    "    return answer\n",
    "\n",
    "def qa_bot(user_question):\n",
    "    context_docs = retrieve_documents(user_question)\n",
    "    prompt = build_prompt(user_question, context_docs)\n",
    "    answer = ask_groq(prompt)\n",
    "    return answer"
   ]
  },
  {
   "cell_type": "code",
   "execution_count": 24,
   "id": "c587893b-e5a5-4466-8a3c-3d915eb40faa",
   "metadata": {
    "scrolled": true
   },
   "outputs": [
    {
     "data": {
      "text/plain": [
       "'According to our FAQ database, this error message usually occurs when the repository name in your reference is not in lowercase. To fix this, please ensure that the repository name in your reference is written in lowercase letters. For example, instead of \" GitLab \", use \" gitlab \".'"
      ]
     },
     "execution_count": 24,
     "metadata": {},
     "output_type": "execute_result"
    }
   ],
   "source": [
    "qa_bot(\"I'm getting invalid reference format: repository name must be lowercase\")"
   ]
  },
  {
   "cell_type": "code",
   "execution_count": 26,
   "id": "c6eadeb4-b9a6-44f4-94fc-1287694eb631",
   "metadata": {
    "scrolled": true
   },
   "outputs": [
    {
     "data": {
      "text/plain": [
       "'I\\'m happy to help! However, I have to advise that the question \"What is the meaning of life?\" is not something that can be answered based on the provided CONTEXT, which does not seem to provide any specific information or relevance to the question.\\n\\nThe provided CONTEXT is empty, which means I don\\'t have any relevant information to draw from when trying to answer this question. Therefore, I won\\'t be able to provide a meaningful answer within the given parameters.\\n\\nIf you could provide more context or clarify the relevance of the question to the course or topic we are discussing, I\\'ll be happy to help answer it to the best of my abilities!'"
      ]
     },
     "execution_count": 26,
     "metadata": {},
     "output_type": "execute_result"
    }
   ],
   "source": [
    "qa_bot(\"What is the meaning of life?\")"
   ]
  },
  {
   "cell_type": "code",
   "execution_count": null,
   "id": "f68e7c8f-d875-40d7-99bc-0b43d7cc8a90",
   "metadata": {},
   "outputs": [],
   "source": []
  }
 ],
 "metadata": {
  "kernelspec": {
   "display_name": "Python 3 (ipykernel)",
   "language": "python",
   "name": "python3"
  },
  "language_info": {
   "codemirror_mode": {
    "name": "ipython",
    "version": 3
   },
   "file_extension": ".py",
   "mimetype": "text/x-python",
   "name": "python",
   "nbconvert_exporter": "python",
   "pygments_lexer": "ipython3",
   "version": "3.9.6"
  }
 },
 "nbformat": 4,
 "nbformat_minor": 5
}
